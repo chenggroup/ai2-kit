{
 "cells": [
  {
   "cell_type": "code",
   "execution_count": null,
   "id": "ef4567c6",
   "metadata": {},
   "outputs": [
    {
     "name": "stderr",
     "output_type": "stream",
     "text": [
      "c:\\Users\\nagoriyuki\\miniconda3\\envs\\ai2-kit-rin\\Lib\\site-packages\\tqdm\\auto.py:21: TqdmWarning: IProgress not found. Please update jupyter and ipywidgets. See https://ipywidgets.readthedocs.io/en/stable/user_install.html\n",
      "  from .autonotebook import tqdm as notebook_tqdm\n"
     ]
    },
    {
     "ename": "AttributeError",
     "evalue": "'WindowsPath' object has no attribute 'exist'",
     "output_type": "error",
     "traceback": [
      "\u001b[31m---------------------------------------------------------------------------\u001b[39m",
      "\u001b[31mAttributeError\u001b[39m                            Traceback (most recent call last)",
      "\u001b[36mCell\u001b[39m\u001b[36m \u001b[39m\u001b[32mIn[1]\u001b[39m\u001b[32m, line 18\u001b[39m\n\u001b[32m     15\u001b[39m current_path = Path.cwd()\n\u001b[32m     16\u001b[39m output_dir = current_path / output_dir_name\n\u001b[32m---> \u001b[39m\u001b[32m18\u001b[39m \u001b[38;5;28;01mif\u001b[39;00m \u001b[38;5;129;01mnot\u001b[39;00m \u001b[43moutput_dir\u001b[49m\u001b[43m.\u001b[49m\u001b[43mexist\u001b[49m():\n\u001b[32m     19\u001b[39m     output_dir.mkdir(parents=\u001b[38;5;28;01mTrue\u001b[39;00m, exist_ok=\u001b[38;5;28;01mTrue\u001b[39;00m)\n\u001b[32m     21\u001b[39m sample_dir = root_dir / \u001b[33m\"\u001b[39m\u001b[33mtests\u001b[39m\u001b[33m\"\u001b[39m / \u001b[33m\"\u001b[39m\u001b[33mdata-sample\u001b[39m\u001b[33m\"\u001b[39m / \u001b[33m\"\u001b[39m\u001b[33mmd_spectra_sample\u001b[39m\u001b[33m\"\u001b[39m\n",
      "\u001b[31mAttributeError\u001b[39m: 'WindowsPath' object has no attribute 'exist'"
     ]
    }
   ],
   "source": [
    "import sys\n",
    "from pathlib import Path\n",
    "\n",
    "root_dir = Path.cwd().parent\n",
    "sys.path.append(str(root_dir))\n",
    "\n",
    "import numpy as np  # noqa: E402\n",
    "import dpdata  # noqa: E402\n",
    "from IPython.display import Image, display  # noqa: E402\n",
    "\n",
    "from ai2_kit.feat.spectrum import md_spectra  # noqa: E402\n",
    "\n",
    "output_dir_name = \"show_output\"\n",
    "current_path = Path.cwd()\n",
    "output_dir = current_path / output_dir_name\n",
    "\n",
    "if not output_dir.exists():\n",
    "    output_dir.mkdir(parents=True, exist_ok=True)\n",
    "\n",
    "sample_dir = root_dir / \"tests\" / \"data-sample\" / \"md_spectra_sample\""
   ]
  },
  {
   "cell_type": "markdown",
   "id": "48ac7531",
   "metadata": {},
   "source": [
    "从分子动力学轨迹数据中提取水分子和羟基的氧原子坐标，并结合 Wannier 中心数据计算水和羟基的原子偶极矩，结果保存为 NumPy 文件，便于后续光谱等分析。"
   ]
  },
  {
   "cell_type": "code",
   "execution_count": null,
   "id": "376d3e7f",
   "metadata": {},
   "outputs": [],
   "source": [
    "a0 = 0.52917721067\n",
    "traj = dpdata.System(sample_dir / \"traj\", fmt=\"deepmd/npy\")\n",
    "wannier: np.ndarray = np.load(sample_dir / \"wannier_dipole.npy\")\n",
    "wannier = wannier.reshape(traj.get_nframes(), -1, 3)\n",
    "name_h2o = \"h2o.npy\"\n",
    "name_adw = \"atomic_dipole_wan.npy\"\n",
    "\n",
    "md_spectra.compute_atomic_dipole_h2o(\n",
    "    traj=traj,\n",
    "    wannier=wannier,\n",
    "    type_O=1,\n",
    "    type_H=2,\n",
    "    r_bond=1.3,\n",
    "    a0=a0,\n",
    "    save_datas=[output_dir / name_h2o, output_dir / name_adw],\n",
    ")"
   ]
  },
  {
   "cell_type": "markdown",
   "id": "70952aa6",
   "metadata": {},
   "source": [
    "处理水分子（H2O）和羟基（OH）的极化数据。通过 DPData 库读取原子轨迹数据，对坐标应用周期性边界条件，然后识别体系中的 H2O 和 OH 基团。脚本从 Wannier 极化数据中提取与这些基团相关的信息，并分别保存为 H2O 和 OH 的极化数据文件，以便后续分析或模拟使用。"
   ]
  },
  {
   "cell_type": "code",
   "execution_count": null,
   "id": "fdf39168",
   "metadata": {},
   "outputs": [],
   "source": [
    "traj = dpdata.System(sample_dir / \"traj\", fmt=\"deepmd/npy\")\n",
    "polar: np.ndarray = np.load(sample_dir / \"wannier_polar.npy\")\n",
    "polar = -polar.reshape(polar.shape[0], -1, 3, 3)\n",
    "name = \"atomic_polar_wan.npy\"\n",
    "\n",
    "md_spectra.extract_atomic_polar_from_traj_h2o(\n",
    "    traj=traj,\n",
    "    polar=polar,\n",
    "    type_O=1,\n",
    "    type_H=2,\n",
    "    r_bond=1.3,\n",
    "    save_data=output_dir / name,\n",
    ")"
   ]
  },
  {
   "cell_type": "markdown",
   "id": "839b960e",
   "metadata": {},
   "source": [
    "计算和绘制水分子的红外 (IR) 光谱。从文件中加载水分子的坐标、晶胞和原子偶极矩数据，应用空间权重函数区分不同区域的分子，然后计算分子内和分子间偶极矩的自相关函数。通过傅里叶变换将这些相关函数转换为频率域数据，最终生成并保存红外光谱图，展示波数与强度的关系。"
   ]
  },
  {
   "cell_type": "code",
   "execution_count": null,
   "id": "027c4b2c",
   "metadata": {},
   "outputs": [],
   "source": [
    "dt = 0.0005\n",
    "window = 2000\n",
    "\n",
    "h2o = np.load(sample_dir / \"traj/set.000/h2o.npy\")\n",
    "cells = np.load(sample_dir / \"traj/set.000/box.npy\").reshape(h2o.shape[0], 3, 3)\n",
    "atomic_dipole = np.load(sample_dir / \"traj/set.000/atomic_dipole_wan_h2o.npy\").reshape(h2o.shape[0], -1, 3)\n",
    "name = \"ir_spectrum.npy\"\n",
    "\n",
    "md_spectra.compute_bulk_ir_h2o(\n",
    "    h2o=h2o,\n",
    "    cells=cells,\n",
    "    atomic_dipole=atomic_dipole,\n",
    "    dt=dt,\n",
    "    window=window,\n",
    "    z0=21.5,\n",
    "    zc=5.0,\n",
    "    zw=0.5,\n",
    "    rc=6.0,\n",
    "    width=240,\n",
    "    temperature=330.0,\n",
    "    M=20000,\n",
    "    filter_type=\"lorenz\",\n",
    "    save_plot=output_dir / \"bulk_ir.png\",\n",
    "    save_data=output_dir / name,\n",
    ")\n",
    "\n",
    "display(Image(filename=output_dir / 'bulk_ir.png'))"
   ]
  },
  {
   "cell_type": "markdown",
   "id": "05b75c64",
   "metadata": {},
   "source": [
    "计算并绘制水分子的拉曼光谱。加载水分子坐标、晶胞和原子极化率数据，应用空间权重函数区分不同区域的分子，计算分子内和分子间的各向同性与各向异性极化率自相关函数。通过傅里叶变换将这些相关函数转换为频域信号，生成并保存三种拉曼光谱图：各向同性光谱 (2800-4000 cm⁻¹)、各向异性光谱 (2800-4000 cm⁻¹) 以及低频各向异性光谱 (0-2500 cm⁻¹)。"
   ]
  },
  {
   "cell_type": "code",
   "execution_count": null,
   "id": "172bc4f7",
   "metadata": {},
   "outputs": [],
   "source": [
    "dt = 0.0005\n",
    "window = 2000\n",
    "\n",
    "h2o = np.load(sample_dir / \"traj/set.000/h2o.npy\")\n",
    "cells = np.load(sample_dir / \"traj/set.000/box.npy\").reshape(h2o.shape[0], 3, 3)\n",
    "atomic_polar = np.load(sample_dir / \"traj/set.000/atomic_polar_wan_h2o.npy\").reshape(h2o.shape[0], -1, 3, 3)\n",
    "name = \"br.npy\"\n",
    "\n",
    "md_spectra.compute_bulk_raman_h2o(\n",
    "    h2o=h2o,\n",
    "    cells=cells,\n",
    "    atomic_polar=atomic_polar,\n",
    "    dt=dt,\n",
    "    window=window,\n",
    "    z0=21.5,\n",
    "    zc=5.0,\n",
    "    zw=0.5,\n",
    "    rc=6.0,\n",
    "    width=240,\n",
    "    temperature=330.0,\n",
    "    M=20000,\n",
    "    filter_type=\"lorenz\",\n",
    "    save_plots=[\n",
    "        output_dir / \"bulk_raman_iso.png\",\n",
    "        output_dir / \"bulk_raman_aniso.png\",\n",
    "        output_dir / \"bulk_raman_aniso_low.png\",\n",
    "    ],\n",
    "    save_data=output_dir / name,\n",
    ")\n",
    "\n",
    "display(Image(filename=output_dir / \"bulk_raman_iso.png\"))\n",
    "display(Image(filename=output_dir / \"bulk_raman_aniso.png\"))\n",
    "display(Image(filename=output_dir / \"bulk_raman_aniso_low.png\"))"
   ]
  },
  {
   "cell_type": "markdown",
   "id": "99471a0f",
   "metadata": {},
   "source": [
    "计算和绘制水分子（H₂O）与羟基（OH）的红外光谱。加载两者的坐标、晶胞及原子偶极矩数据并合并，通过空间权重函数处理特定区域的分子，计算分子内和分子间偶极矩自相关函数，再经傅里叶变换得到频域数据，分别生成 H₂O 和 OH 的红外光谱图，展示不同基团在 0-4000 cm⁻¹ 波数范围内的红外吸收强度。"
   ]
  },
  {
   "cell_type": "code",
   "execution_count": null,
   "id": "06bb734d",
   "metadata": {},
   "outputs": [],
   "source": [
    "dt = 0.0005\n",
    "window = 50000\n",
    "\n",
    "h2o = np.load(sample_dir / \"h2o.npy\")\n",
    "atomic_dipole = np.load(sample_dir / \"atomic_dipole_wan.npy\")\n",
    "atomic_dipole = atomic_dipole.reshape(atomic_dipole.shape[0], -1, 3)\n",
    "name = \"ir_sp.dat\"\n",
    "\n",
    "md_spectra.compute_surface_ir_spectra_h2o(\n",
    "    h2o=h2o,\n",
    "    atomic_dipole=atomic_dipole,\n",
    "    dt=dt,\n",
    "    window=window,\n",
    "    z1_min=16.0,\n",
    "    z1_max=17.4,\n",
    "    z2_min=20.0,\n",
    "    z2_max=25.0,\n",
    "    z3_min=27.6,\n",
    "    z3_max=29.0,\n",
    "    z_total_min=16.0,\n",
    "    z_total_max=29.0,\n",
    "    z_bin=0.4,\n",
    "    width=25,\n",
    "    temperature=330.0,\n",
    "    save_plot=output_dir / \"ir_sp.png\",\n",
    "    save_data=output_dir / name,\n",
    ")\n",
    "\n",
    "display(Image(output_dir / \"ir_sp.png\"))"
   ]
  },
  {
   "cell_type": "markdown",
   "id": "0ace8d19",
   "metadata": {},
   "source": [
    "计算和绘制水分子（H₂O）与羟基（OH）体系的拉曼光谱。加载两者的坐标、晶胞及原子极化率数据并合并，通过空间权重函数处理特定区域的分子，计算分子内和分子间的各向同性与各向异性极化率自相关函数，经傅里叶变换得到频域信号后，分别生成 H₂O 的各向同性光谱（2800-4000 cm⁻¹）、各向异性光谱（2800-4000 cm⁻¹）及低频各向异性光谱（0-2500 cm⁻¹）并保存为图像文件。"
   ]
  },
  {
   "cell_type": "code",
   "execution_count": null,
   "id": "85d972c1",
   "metadata": {},
   "outputs": [],
   "source": [
    "dt = 0.0005\n",
    "window = 2000\n",
    "\n",
    "h2o = np.load(sample_dir / \"traj/set.000/h2o.npy\")\n",
    "oh = np.load(sample_dir / \"traj/set.000/oh.npy\")\n",
    "cells = np.load(sample_dir / \"traj/set.000/box.npy\").reshape(h2o.shape[0], 3, 3)\n",
    "atomic_polar_h2o = np.load(sample_dir / \"traj/set.000/atomic_polar_wan_h2o.npy\").reshape(h2o.shape[0], -1, 3, 3)\n",
    "atomic_polar_oh = np.load(sample_dir / \"traj/set.000/atomic_polar_wan_oh.npy\").reshape(h2o.shape[0], -1, 3, 3)\n",
    "name = \"sr.npy\"\n",
    "\n",
    "md_spectra.compute_surface_raman_h2o(\n",
    "    h2o=h2o,\n",
    "    oh=oh,\n",
    "    cells=cells,\n",
    "    atomic_polar_h2o=atomic_polar_h2o,\n",
    "    atomic_polar_oh=atomic_polar_oh,\n",
    "    dt=dt,\n",
    "    window=window,\n",
    "    z0=21.5,\n",
    "    zc=10.0,\n",
    "    zw=0.5,\n",
    "    rc=6.0,\n",
    "    width=240,\n",
    "    temperature=330.0,\n",
    "    M=20000,\n",
    "    filter_type=\"lorenz\",\n",
    "    save_plots=[\n",
    "        output_dir / \"sur_raman_iso.png\",\n",
    "        output_dir / \"sur_raman_aniso.png\",\n",
    "        output_dir / \"sur_raman_aniso_low.png\",\n",
    "    ],\n",
    "    save_data=output_dir / name,\n",
    ")\n",
    "\n",
    "display(Image(output_dir / \"sur_raman_iso.png\"))\n",
    "display(Image(output_dir / \"sur_raman_aniso.png\"))\n",
    "display(Image(output_dir / \"sur_raman_aniso_low.png\"))"
   ]
  },
  {
   "cell_type": "markdown",
   "id": "465a0595",
   "metadata": {},
   "source": [
    "计算和绘制水分子（H₂O）与羟基（OH）的和频产生（SFG）光谱。加载两者的坐标、晶胞、原子偶极矩及极化率数据并合并，通过空间权重函数处理特定区域的分子，计算基于极化率对角分量与偶极矩 z 分量的分子内和分子间相关函数，经傅里叶变换得到频域数据后，分别生成 H₂O 和 OH 在 2800-4000 cm⁻¹ 波数范围内的 SFG 光谱图，展示二阶非线性极化率虚部与波数的关系并保存为图像文件。"
   ]
  },
  {
   "cell_type": "code",
   "execution_count": null,
   "id": "eb24df8f",
   "metadata": {},
   "outputs": [],
   "source": [
    "dt = 0.0005\n",
    "window = 50000\n",
    "\n",
    "h2o = np.load(sample_dir / \"h2o.npy\")\n",
    "atomic_dipole = np.load(sample_dir / \"atomic_dipole_wan.npy\").reshape(h2o.shape[0], -1, 3)\n",
    "atomic_polar = np.load(sample_dir / \"atomic_polar_wan.npy\").reshape(h2o.shape[0], -1, 3, 3)\n",
    "name = \"SFG.dat\"\n",
    "\n",
    "md_spectra.compute_surface_sfg_h2o(\n",
    "    h2o=h2o,\n",
    "    atomic_dipole=atomic_dipole,\n",
    "    atomic_polar=atomic_polar,\n",
    "    dt=dt,\n",
    "    window=window,\n",
    "    z0=22.5,\n",
    "    zc=2.5,\n",
    "    zw=2.6,\n",
    "    rc=6.75,\n",
    "    width=50,\n",
    "    temperature=330.0,\n",
    "    save_plot=output_dir / \"sfg.png\",\n",
    "    save_data=output_dir / name,\n",
    ")\n",
    "\n",
    "display(Image(output_dir / \"sfg.png\"))"
   ]
  }
 ],
 "metadata": {
  "kernelspec": {
   "display_name": "ai2-kit-rin",
   "language": "python",
   "name": "python3"
  },
  "language_info": {
   "codemirror_mode": {
    "name": "ipython",
    "version": 3
   },
   "file_extension": ".py",
   "mimetype": "text/x-python",
   "name": "python",
   "nbconvert_exporter": "python",
   "pygments_lexer": "ipython3",
   "version": "3.13.5"
  }
 },
 "nbformat": 4,
 "nbformat_minor": 5
}

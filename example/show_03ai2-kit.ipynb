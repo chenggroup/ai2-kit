{
 "cells": [
  {
   "cell_type": "code",
   "execution_count": null,
   "id": "e1c6c755",
   "metadata": {},
   "outputs": [],
   "source": [
    "import numpy as np\n",
    "import glob\n",
    "import pandas as pd\n",
    "\n",
    "from IPython.display import Image, display"
   ]
  },
  {
   "cell_type": "markdown",
   "id": "e65b0562",
   "metadata": {},
   "source": [
    "本单元从文件中加载 DFT/MLP 能量和力数据，然后生成误差分析图像"
   ]
  },
  {
   "cell_type": "code",
   "execution_count": null,
   "id": "11f4b0f3",
   "metadata": {},
   "outputs": [],
   "source": [
    "from ai2_kit.feat.spectrum.smiviz import plot_energy_force_error\n",
    "\n",
    "# Load data from files\n",
    "ener_neu = np.loadtxt(\"00.dp_data/neu_000.e.out\")  # shape (N, 2)\n",
    "ener_red = np.loadtxt(\"00.dp_data/red_000.e.out\")  # shape (N, 2)\n",
    "frcs_neu = np.loadtxt(\"00.dp_data/neu_000.f.out\")  # shape (N, 6)\n",
    "frcs_red = np.loadtxt(\"00.dp_data/red_000.f.out\")  # shape (N, 6)\n",
    "\n",
    "# Call the plotting function with the same parameters as the original script\n",
    "plot_energy_force_error(\n",
    "    ener_neu=ener_neu,\n",
    "    ener_red=ener_red,\n",
    "    frcs_neu=frcs_neu,\n",
    "    frcs_red=frcs_red,\n",
    "    n_atoms=191,\n",
    "    save_plot=\"error.jpg\"\n",
    ")\n",
    "\n",
    "display(Image(filename=\"error.jpg\"))"
   ]
  },
  {
   "cell_type": "markdown",
   "id": "75b8843a",
   "metadata": {},
   "source": [
    "本单元加载 MLMD 和 FP 数据，处理得到平均垂直能隙，然后生成并保存热力学积分图像为 \"ti.jpg\"。  \n",
    "同时输出 MLMD 和 FP 的积分结果。"
   ]
  },
  {
   "cell_type": "code",
   "execution_count": null,
   "id": "2c9d287c",
   "metadata": {},
   "outputs": [],
   "source": [
    "from ai2_kit.feat.spectrum.smiviz import plot_ti_results\n",
    "\n",
    "file_names = glob.glob(\"01.fep_ti_inp/*/fep_mix.ener\")\n",
    "file_names.sort()\n",
    "file_names_fp = glob.glob(\"02.fp_val/*/data.txt\")\n",
    "file_names_fp.sort()\n",
    "\n",
    "etas = [float(i.split(\"/\")[-2]) for i in file_names]\n",
    "vegs = []\n",
    "for i in file_names:\n",
    "    data = np.loadtxt(i)\n",
    "    gaps = data[:, -1]\n",
    "    cum_sum = np.cumsum(gaps)\n",
    "    ave_gaps = cum_sum / np.arange(1, len(gaps) + 1, 1)\n",
    "    vegs.append(ave_gaps[-1])\n",
    "\n",
    "etas_fp = [float(i.split(\"/\")[-2]) for i in file_names_fp]\n",
    "vegs_fp = []\n",
    "for i in file_names_fp:\n",
    "    data = np.loadtxt(i)\n",
    "    ave_gaps = data[:, -1]\n",
    "    vegs_fp.append(ave_gaps[-1])\n",
    "\n",
    "integral, integral_fp = plot_ti_results(\n",
    "    etas=etas,\n",
    "    vegs=vegs,\n",
    "    etas_fp=etas_fp,\n",
    "    vegs_fp=vegs_fp,\n",
    "    save_plot=\"ti.jpg\"\n",
    ")\n",
    "\n",
    "print(integral)\n",
    "print(integral_fp)\n",
    "display(Image(filename=\"ti.jpg\"))"
   ]
  },
  {
   "cell_type": "markdown",
   "id": "3a74d578",
   "metadata": {},
   "source": [
    "本单元加载垂直能隙数据，并生成对应的图像。"
   ]
  },
  {
   "cell_type": "code",
   "execution_count": null,
   "id": "99578819",
   "metadata": {},
   "outputs": [],
   "source": [
    "from ai2_kit.feat.spectrum.smiviz import plot_vertical_energy_gaps\n",
    "\n",
    "gap_data = pd.read_csv(\"gap_data.csv\")  # Replace with your actual data loading\n",
    "\n",
    "plot_vertical_energy_gaps(\n",
    "    gap_data=gap_data,\n",
    "    save_plot=\"vertical_energy_gaps.png\"\n",
    ")\n",
    "\n",
    "\n",
    "display(Image(filename=\"vertical_energy_gaps.png\"))"
   ]
  },
  {
   "cell_type": "markdown",
   "id": "c6310a32",
   "metadata": {},
   "source": [
    "本单元从 CSV 文件加载垂直能隙数据，并生成并保存平滑（移动平均）后的图像。 "
   ]
  },
  {
   "cell_type": "code",
   "execution_count": null,
   "id": "77253406",
   "metadata": {},
   "outputs": [],
   "source": [
    "from ai2_kit.feat.spectrum.smiviz import plot_smoothed_vertical_energy_gaps\n",
    "\n",
    "gap_data = pd.read_csv(\"gap_data.csv\")  # Replace with your actual data loading\n",
    "\n",
    "plot_smoothed_vertical_energy_gaps(\n",
    "    gap_data=gap_data,\n",
    "    save_plot=\"smoothed_vertical_energy_gaps.png\"\n",
    ")\n",
    "\n",
    "display(Image(filename=\"smoothed_vertical_energy_gaps.png\"))"
   ]
  },
  {
   "cell_type": "markdown",
   "id": "46094131",
   "metadata": {},
   "source": [
    "本单元从 CSV 文件加载平均能隙数据，并生成并保存热力学积分曲线。"
   ]
  },
  {
   "cell_type": "code",
   "execution_count": null,
   "id": "2a4c2c0f",
   "metadata": {},
   "outputs": [],
   "source": [
    "from ai2_kit.feat.spectrum.smiviz import plot_thermodynamic_integration\n",
    "\n",
    "mean_data = pd.read_csv(\"mean_data.csv\")  # Replace with your actual data loading\n",
    "\n",
    "plot_thermodynamic_integration(\n",
    "    mean_data=mean_data,\n",
    "    save_path=\"thermodynamic_integration.png\"\n",
    ")\n",
    "\n",
    "display(Image(filename=\"thermodynamic_integration.png\"))"
   ]
  }
 ],
 "metadata": {
  "kernelspec": {
   "display_name": "base",
   "language": "python",
   "name": "python3"
  },
  "language_info": {
   "name": "python",
   "version": "3.13.2"
  }
 },
 "nbformat": 4,
 "nbformat_minor": 5
}

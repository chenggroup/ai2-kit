{
 "cells": [
  {
   "cell_type": "markdown",
   "metadata": {},
   "source": [
    "# LMBTR Descriptor Generation from XYZ Files\n",
    "\n",
    "This notebook uses a utility module to read `xyz` files, generate LMBTR descriptors, and save them to a pickle file."
   ]
  },
  {
   "cell_type": "code",
   "execution_count": 4,
   "metadata": {},
   "outputs": [],
   "source": [
    "# Ensure required libraries are installed\n",
    "# !pip install dscribe ase tqdm numpy"
   ]
  },
  {
   "cell_type": "code",
   "execution_count": 5,
   "metadata": {},
   "outputs": [],
   "source": [
    "import xyz_utils as utils"
   ]
  },
  {
   "cell_type": "markdown",
   "metadata": {},
   "source": [
    "## Generate and Save Descriptors\n",
    "\n",
    "Here we call the main utility function to perform the entire data input, processing, and output operation. The `save_to_file=True` argument ensures the final descriptors are saved, replicating the original script's behavior."
   ]
  },
  {
   "cell_type": "code",
   "execution_count": 6,
   "metadata": {},
   "outputs": [
    {
     "name": "stdout",
     "output_type": "stream",
     "text": [
      "Found 1 file(s) to process.\n"
     ]
    },
    {
     "name": "stderr",
     "output_type": "stream",
     "text": [
      "100%|██████████| 1/1 [00:02<00:00,  2.49s/it]"
     ]
    },
    {
     "name": "stdout",
     "output_type": "stream",
     "text": [
      "Descriptors saved to fsi.pkl\n",
      "\n",
      "Process complete. Generated a total of 10 descriptors.\n"
     ]
    },
    {
     "name": "stderr",
     "output_type": "stream",
     "text": [
      "\n"
     ]
    }
   ],
   "source": [
    "all_descriptors = utils.generate_and_save_lmbtr_descriptors(\n",
    "    xyz_folder_path='./wrap-xyz/',\n",
    "    file_pattern='task-0000.xyz', # Using the specific pattern from the original script\n",
    "    central_atoms=['Li'],\n",
    "    output_path='fsi.pkl',\n",
    "    save_to_file=True # Replicates the original script's behavior of saving the output\n",
    ")\n",
    "\n",
    "print(f\"\\nProcess complete. Generated a total of {len(all_descriptors)} descriptors.\")"
   ]
  }
 ],
 "metadata": {
  "kernelspec": {
   "display_name": "organize_upload",
   "language": "python",
   "name": "python3"
  },
  "language_info": {
   "codemirror_mode": {
    "name": "ipython",
    "version": 3
   },
   "file_extension": ".py",
   "mimetype": "text/x-python",
   "name": "python",
   "nbconvert_exporter": "python",
   "pygments_lexer": "ipython3",
   "version": "3.11.12"
  }
 },
 "nbformat": 4,
 "nbformat_minor": 4
}
